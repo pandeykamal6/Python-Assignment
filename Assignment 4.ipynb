{
 "cells": [
  {
   "cell_type": "code",
   "execution_count": null,
   "metadata": {},
   "outputs": [],
   "source": [
    "1. What exactly is []?\n",
    "Its a list\n",
    "2. In a list of values stored in a variable called spam, how would you assign the value 'hello' as the third value? (Assume [2, 4, 6, 8, 10] are in spam.)\n",
    "spam[2]='hello'\n",
    "\n",
    "Let's pretend the spam includes the list ['a', 'b', 'c', 'd'] for the next three queries.\n",
    "3. What is the value of spam[int(int('3' * 2) / 11)]?: 'd'\n",
    "4. What is the value of spam[-1]?: 'd'\n",
    "5. What is the value of spam[:2]?: ['a','b']\n",
    "\n",
    "Let's pretend bacon has the list [3.14, 'cat,' 11, 'cat,' True] for the next three questions.\n",
    "6. What is the value of bacon.index('cat')? :1\n",
    "7. How does bacon.append(99) change the look of the list value in bacon?:[3.14, 'cat', 11, 'cat,' True,99]\n",
    "8. How does bacon.remove('cat') change the look of the list in bacon?:[3.14, 11, 'cat,' True,99]\n",
    "    \n",
    "9. What are the list concatenation and list replication operators?  concatenation operator is '+' . replicator operator is:'*'\n",
    "    for eg:\n",
    "        [3,4,5]+[5,7,8] (return [3,4,5,5,7,8])   [3,4]*2  (return [3,4,3,4])\n",
    "    \n",
    "10. What is difference between the list methods append() and insert()? \n",
    "append insert values at the end memory location of iterable whereas \n",
    "insert insert data at desired location in the memore ie index.\n",
    "\n",
    "11. What are the two methods for removing items from a list?\n",
    "remove and clear\n",
    "\n",
    "12. Describe how list values and string values are identical.\n",
    "Both list and string values are iterables\n",
    "\n",
    "13. What's the difference between tuples and lists?\n",
    "tuples are immutables whereas lists are mutables\n",
    "\n",
    "14. How do you type a tuple value that only contains the integer 42?\n",
    "(42,)\n",
    "\n",
    "15. How do you get a list value's tuple form? How do you get a tuple value's list form?\n",
    "tuple(list)    list(tuple)\n",
    "\n",
    "16. Variables that \"contain\" list values are not necessarily lists themselves. Instead, what do they contain?\n",
    "They contain address reference to list values like l[0]=21 where l[21,33,4,5] and l[2]=4\n",
    "\n",
    "17. How do you distinguish between copy.copy() and copy.deepcopy()?\n",
    "copy.copy does a shallow copy of the list values whereas copy.deepcopy copies the list entirely even a complex list .\n",
    "\n"
   ]
  }
 ],
 "metadata": {
  "kernelspec": {
   "display_name": "Python 3",
   "language": "python",
   "name": "python3"
  },
  "language_info": {
   "codemirror_mode": {
    "name": "ipython",
    "version": 3
   },
   "file_extension": ".py",
   "mimetype": "text/x-python",
   "name": "python",
   "nbconvert_exporter": "python",
   "pygments_lexer": "ipython3",
   "version": "3.8.5"
  }
 },
 "nbformat": 4,
 "nbformat_minor": 4
}
