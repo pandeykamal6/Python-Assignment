{
 "cells": [
  {
   "cell_type": "code",
   "execution_count": null,
   "metadata": {},
   "outputs": [],
   "source": [
    "1. What does an empty dictionary's code look like?\n",
    "{'':''}\n",
    "\n",
    "2. What is the value of a dictionary value with the key 'foo' and the value 42?\n",
    "{'foo':42}\n",
    "\n",
    "3. What is the most significant distinction between a dictionary and a list?\n",
    "dictionary and list have values enclosed within {} but in dictionary it follows jason format ie key and value format inside {} wherea\n",
    "in list values are put inside the {} .List is mutable whereas dictionary too is mutable but the key value is immutable and value is mutable.\n",
    "\n",
    "4. What happens if you try to access spam['foo'] if spam is {'bar': 100}?\n",
    "will fetch key error as there is no key available inside the dictionary name 'foo' but with spam['bar'] will return 100 \n",
    "\n",
    "5. If a dictionary is stored in spam, what is the difference between the expressions 'cat' in spam and 'cat' in spam.keys()?\n",
    "spam.keys() will return all the keys available inside the dictionary.So there is no difference\n",
    "\n",
    "6. If a dictionary is stored in spam, what is the difference between the expressions 'cat' in spam and 'cat' in spam.values()?\n",
    "spam.values() will return all the values present inside the dictionary with respect to 'cat' whereas cat in spam is a key inside the dictionary.\n",
    "\n",
    "7. What is a shortcut for the following code?\n",
    "if 'color' not in spam:\n",
    "spam['color'] = 'black'\n",
    "\n",
    "spam.setdefault('color','black')\n",
    "\n",
    "8. How do you \"pretty print\" dictionary values using which module and function?\n",
    "pprtint module\n",
    "pprint.pprint(spam)\n",
    "\n"
   ]
  }
 ],
 "metadata": {
  "kernelspec": {
   "display_name": "Python 3",
   "language": "python",
   "name": "python3"
  },
  "language_info": {
   "codemirror_mode": {
    "name": "ipython",
    "version": 3
   },
   "file_extension": ".py",
   "mimetype": "text/x-python",
   "name": "python",
   "nbconvert_exporter": "python",
   "pygments_lexer": "ipython3",
   "version": "3.8.5"
  }
 },
 "nbformat": 4,
 "nbformat_minor": 4
}
