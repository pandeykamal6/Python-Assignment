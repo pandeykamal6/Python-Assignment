{
 "cells": [
  {
   "cell_type": "code",
   "execution_count": null,
   "metadata": {},
   "outputs": [],
   "source": [
    "1. What are escape characters, and how do you use them?\n",
    "Escape character like '\\' are used to add whitespace between the string of characters.Such as \\n(new line),\\t(tab white space)\n",
    "\n",
    "2. What do the escape characters n and t stand for?\n",
    "\\n is for newline whitespace and \\t is for tab white space\n",
    "\n",
    "3. What is the way to include backslash characters in a string?\n",
    "print('string\\n') print('\\t string \\t string2')\\\n",
    "\n",
    "4. The string \"Howl's Moving Castle\" is a correct value. Why isn't the single quote character in the word Howl's not escaped a problem?\n",
    "It was defined inside \" \" which infers for string type and using '' within \" \" or vice versa can be accomodated inside the print string\n",
    "\n",
    "5. How do you write a string of newlines if you don't want to use the n character?\n",
    "print('string'+'\\t'*25)\n",
    "\n",
    "6. What are the values of the given expressions?\n",
    "'Hello, world!'[1]:  e\n",
    "'Hello, world!'[0:5]:  Hello\n",
    "'Hello, world!'[:5]: Hello\n",
    "'Hello, world!'[3:]:  Hello,world!\n",
    "\n",
    "7. What are the values of the following expressions?\n",
    "'Hello'.upper() : HELLO\n",
    "'Hello'.upper().isupper() :True\n",
    "'Hello'.upper().lower() hello\n",
    "\n",
    "8. What are the values of the following expressions?\n",
    "'Remember, remember, the fifth of July.'.split() :['Remember,', 'remember,', 'the', 'fifth', 'of', 'July.']\n",
    "'-'.join('There can only one.'.split()): 'There-can-only-one.'\n",
    "9. What are the methods for right-justifying, left-justifying, and centering a string?\n",
    "center(),ljust(),rjust()\n",
    "\n",
    "10. What is the best way to remove whitespace characters from the start or end?\n",
    "by using strip()\n"
   ]
  }
 ],
 "metadata": {
  "kernelspec": {
   "display_name": "Python 3",
   "language": "python",
   "name": "python3"
  },
  "language_info": {
   "codemirror_mode": {
    "name": "ipython",
    "version": 3
   },
   "file_extension": ".py",
   "mimetype": "text/x-python",
   "name": "python",
   "nbconvert_exporter": "python",
   "pygments_lexer": "ipython3",
   "version": "3.8.5"
  }
 },
 "nbformat": 4,
 "nbformat_minor": 4
}
