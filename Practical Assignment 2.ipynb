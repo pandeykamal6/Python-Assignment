{
 "cells": [
  {
   "cell_type": "markdown",
   "id": "622b63b1",
   "metadata": {},
   "source": [
    "Write a Python program to convert kilometers to miles?"
   ]
  },
  {
   "cell_type": "code",
   "execution_count": 4,
   "id": "baf7e5ab",
   "metadata": {},
   "outputs": [
    {
     "name": "stdout",
     "output_type": "stream",
     "text": [
      "Converting km to miles: 12.42742 miles\n"
     ]
    }
   ],
   "source": [
    "def converter(km):\n",
    "    return 0.621371*km\n",
    "print('Converting km to miles:',converter(20),'miles')"
   ]
  },
  {
   "cell_type": "code",
   "execution_count": null,
   "id": "56d31c66",
   "metadata": {},
   "outputs": [],
   "source": [
    "Write a Python program to convert Celsius to Fahrenheit?\n",
    "\n"
   ]
  },
  {
   "cell_type": "code",
   "execution_count": 10,
   "id": "d20018ac",
   "metadata": {},
   "outputs": [
    {
     "name": "stdout",
     "output_type": "stream",
     "text": [
      "Converting celsius to fahrenheit: 77.0 degree Fahrenheit\n"
     ]
    }
   ],
   "source": [
    "def temp(degree):\n",
    "    return degree*(9/5)+32\n",
    "print('Converting celsius to fahrenheit:',temp(25),'degree Fahrenheit')"
   ]
  },
  {
   "cell_type": "markdown",
   "id": "50579e28",
   "metadata": {},
   "source": [
    "Write a Python program to display calendar?"
   ]
  },
  {
   "cell_type": "code",
   "execution_count": 20,
   "id": "f155632d",
   "metadata": {},
   "outputs": [
    {
     "name": "stdout",
     "output_type": "stream",
     "text": [
      "    November 21\n",
      "Mo Tu We Th Fr Sa Su\n",
      " 1  2  3  4  5  6  7\n",
      " 8  9 10 11 12 13 14\n",
      "15 16 17 18 19 20 21\n",
      "22 23 24 25 26 27 28\n",
      "29 30\n",
      "\n"
     ]
    }
   ],
   "source": [
    "import calendar\n",
    "print(calendar.month(21,11))"
   ]
  },
  {
   "cell_type": "markdown",
   "id": "5cae0062",
   "metadata": {},
   "source": [
    "4. Write a Python program to solve quadratic equation?"
   ]
  },
  {
   "cell_type": "code",
   "execution_count": 32,
   "id": "8cf02628",
   "metadata": {},
   "outputs": [
    {
     "name": "stdout",
     "output_type": "stream",
     "text": [
      "Quadratic Equation given by: 10 x2 + 15 x + 20\n",
      "Solution of Quadratic eqn is: (-15+5.361902647381804j) and (-15-5.361902647381804j)\n"
     ]
    }
   ],
   "source": [
    "import cmath as cm\n",
    "# quadratic eqn is: ax^2+bx+c=0\n",
    "#to get solution {x=-b(+/-)[b^2-4ac]/2^a}\n",
    "a,b,c=10,15,20\n",
    "d=(b**2-4*a*c)/(2*a)\n",
    "print('Quadratic Equation given by:',a,'x2',\"+\",b,\"x\",\"+\",c)\n",
    "eqn1=-b+cm.sqrt(d)\n",
    "eqn2=-b-cm.sqrt(d)\n",
    "print('Solution of Quadratic eqn is: {} and {}'.format(eqn1,eqn2))\n"
   ]
  },
  {
   "cell_type": "markdown",
   "id": "eaa3a3fb",
   "metadata": {},
   "source": [
    "5. Write a Python program to swap two variables without temp variable?"
   ]
  },
  {
   "cell_type": "code",
   "execution_count": 34,
   "id": "295a52df",
   "metadata": {},
   "outputs": [
    {
     "name": "stdout",
     "output_type": "stream",
     "text": [
      "enter a value:10\n",
      "enter b value:20\n",
      "Value of a is: 20\n",
      "Value of b is: 10\n"
     ]
    }
   ],
   "source": [
    "a=input(\"enter a value:\")\n",
    "b=input('enter b value:')\n",
    "a,b=b,a\n",
    "print('Value of a is:',a)\n",
    "print('Value of b is:',b)"
   ]
  },
  {
   "cell_type": "code",
   "execution_count": null,
   "id": "d273a032",
   "metadata": {},
   "outputs": [],
   "source": []
  }
 ],
 "metadata": {
  "kernelspec": {
   "display_name": "Python 3",
   "language": "python",
   "name": "python3"
  },
  "language_info": {
   "codemirror_mode": {
    "name": "ipython",
    "version": 3
   },
   "file_extension": ".py",
   "mimetype": "text/x-python",
   "name": "python",
   "nbconvert_exporter": "python",
   "pygments_lexer": "ipython3",
   "version": "3.8.8"
  }
 },
 "nbformat": 4,
 "nbformat_minor": 5
}
