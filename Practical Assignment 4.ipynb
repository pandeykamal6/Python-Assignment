{
 "cells": [
  {
   "cell_type": "markdown",
   "id": "9da821a1",
   "metadata": {},
   "source": [
    "1. Write a Python Program to Find the Factorial of a Number?"
   ]
  },
  {
   "cell_type": "code",
   "execution_count": 4,
   "id": "6f8938d1",
   "metadata": {},
   "outputs": [
    {
     "name": "stdout",
     "output_type": "stream",
     "text": [
      "24\n"
     ]
    }
   ],
   "source": [
    "def fac(num):\n",
    "    fac=1\n",
    "    for i in range(1,num+1):\n",
    "        fac=fac*i\n",
    "    return fac\n",
    "print(fac(4))"
   ]
  },
  {
   "cell_type": "markdown",
   "id": "2d3fd72d",
   "metadata": {},
   "source": [
    "2. Write a Python Program to Display the multiplication Table?"
   ]
  },
  {
   "cell_type": "code",
   "execution_count": 14,
   "id": "41def540",
   "metadata": {},
   "outputs": [
    {
     "name": "stdout",
     "output_type": "stream",
     "text": [
      "10X1=10\n",
      "10X2=20\n",
      "10X3=30\n",
      "10X4=40\n",
      "10X5=50\n",
      "10X6=60\n",
      "10X7=70\n",
      "10X8=80\n",
      "10X9=90\n",
      "10X10=100\n"
     ]
    }
   ],
   "source": [
    "def tab(num):\n",
    "    for i in range(1,num+1):\n",
    "        prod=i*num\n",
    "        print (str(num)+'X'+str(i)+'='+str(prod))\n",
    "    \n",
    "(tab(10))"
   ]
  },
  {
   "cell_type": "markdown",
   "id": "61f2d6f9",
   "metadata": {},
   "source": [
    "3. Write a Python Program to Print the Fibonacci sequence?"
   ]
  },
  {
   "cell_type": "code",
   "execution_count": 68,
   "id": "c0eda7c8",
   "metadata": {},
   "outputs": [
    {
     "name": "stdout",
     "output_type": "stream",
     "text": [
      "0\n",
      "1\n",
      "2\n",
      "3\n",
      "5\n",
      "8\n",
      "13\n",
      "Please enter a number greater than 0\n"
     ]
    }
   ],
   "source": [
    "def fibbonacci(num):\n",
    "    a=0\n",
    "    b=1\n",
    "    c=0\n",
    "    if num>=0:\n",
    "        for i in range(0,num):\n",
    "            print(c)\n",
    "            c=a+b\n",
    "            a=b\n",
    "            b=c\n",
    "    else:\n",
    "        print('Please enter a number greater than 0')\n",
    "fibbonacci(7)\n",
    "fibbonacci(-4)"
   ]
  },
  {
   "cell_type": "markdown",
   "id": "9d0826ae",
   "metadata": {},
   "source": [
    "4. Write a Python Program to Check Armstrong Number?"
   ]
  },
  {
   "cell_type": "code",
   "execution_count": 50,
   "id": "3ab3dd4c",
   "metadata": {},
   "outputs": [
    {
     "name": "stdout",
     "output_type": "stream",
     "text": [
      "The entered number 153 is Armstrong number\n",
      "Entered number 555 is not a Armstrong number\n"
     ]
    }
   ],
   "source": [
    "def arm(num):\n",
    "    digit=[]\n",
    "    order=len(str(num))\n",
    "    sum=0\n",
    "    temp=num\n",
    "    while temp>0:\n",
    "        digit=temp%10\n",
    "        sum+=digit**order\n",
    "        temp=temp//10\n",
    "    if sum==num:\n",
    "        return('The entered number {} is Armstrong number'.format(num))\n",
    "    else:\n",
    "        return('Entered number {} is not a Armstrong number'.format(num))\n",
    "print(arm(153))\n",
    "print(arm(555))\n",
    "        \n",
    "        "
   ]
  },
  {
   "cell_type": "markdown",
   "id": "f1a0301e",
   "metadata": {},
   "source": [
    "5. Write a Python Program to Find Armstrong Number in an Interval?"
   ]
  },
  {
   "cell_type": "code",
   "execution_count": 55,
   "id": "4ccc940d",
   "metadata": {},
   "outputs": [
    {
     "name": "stdout",
     "output_type": "stream",
     "text": [
      "1\n",
      "2\n",
      "3\n",
      "4\n",
      "5\n",
      "6\n",
      "7\n",
      "8\n",
      "9\n",
      "153\n",
      "370\n",
      "371\n",
      "407\n"
     ]
    }
   ],
   "source": [
    "def sear_arm():\n",
    "    for num in range(1,1000):\n",
    "        temp=num\n",
    "        sum=0\n",
    "        order=len(str(num))\n",
    "        while temp>0:\n",
    "            digit=temp%10\n",
    "            sum+=digit**order\n",
    "            temp//=10\n",
    "        if num==sum:\n",
    "            print(num)\n",
    "          \n",
    "sear_arm()\n",
    "            "
   ]
  },
  {
   "cell_type": "markdown",
   "id": "d2bde0b4",
   "metadata": {},
   "source": [
    "6. Write a Python Program to Find the Sum of Natural Numbers?"
   ]
  },
  {
   "cell_type": "code",
   "execution_count": 65,
   "id": "26b978f7",
   "metadata": {},
   "outputs": [
    {
     "name": "stdout",
     "output_type": "stream",
     "text": [
      "The summation of natural number is: 5050\n"
     ]
    }
   ],
   "source": [
    "def nat(num_range):\n",
    "    sum=0\n",
    "    num=1\n",
    "    \n",
    "    for i in range(num_range):\n",
    "        sum+=num\n",
    "        num+=1\n",
    "    return sum\n",
    "print(\"The summation of natural number is:\",nat(100)\n",
    "            \n",
    "            "
   ]
  }
 ],
 "metadata": {
  "kernelspec": {
   "display_name": "Python 3",
   "language": "python",
   "name": "python3"
  },
  "language_info": {
   "codemirror_mode": {
    "name": "ipython",
    "version": 3
   },
   "file_extension": ".py",
   "mimetype": "text/x-python",
   "name": "python",
   "nbconvert_exporter": "python",
   "pygments_lexer": "ipython3",
   "version": "3.8.8"
  }
 },
 "nbformat": 4,
 "nbformat_minor": 5
}
