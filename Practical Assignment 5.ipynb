{
 "cells": [
  {
   "cell_type": "markdown",
   "id": "48cfbf76",
   "metadata": {},
   "source": [
    "Write a Python Program to Find LCM?"
   ]
  },
  {
   "cell_type": "code",
   "execution_count": 16,
   "id": "319495d8",
   "metadata": {},
   "outputs": [
    {
     "data": {
      "text/plain": [
       "30"
      ]
     },
     "execution_count": 16,
     "metadata": {},
     "output_type": "execute_result"
    }
   ],
   "source": [
    "def lcm(a,b):\n",
    "    if b<a:\n",
    "        large=a\n",
    "    else:\n",
    "        large=b\n",
    "    while(True):\n",
    "        if (large%a==0 and large%b==0):\n",
    "            lcm=large\n",
    "            break\n",
    "        large+=1\n",
    "    return lcm\n",
    "\n",
    "lcm(2,30)\n",
    "        "
   ]
  },
  {
   "cell_type": "markdown",
   "id": "d2821535",
   "metadata": {},
   "source": [
    "2. Write a Python Program to Find HCF?"
   ]
  },
  {
   "cell_type": "code",
   "execution_count": 33,
   "id": "bc457849",
   "metadata": {},
   "outputs": [
    {
     "name": "stdout",
     "output_type": "stream",
     "text": [
      "111\n",
      "HCF of 89899 and 9999999 is: 3\n"
     ]
    }
   ],
   "source": [
    "def hcf(x,y):\n",
    "    if (x>y):\n",
    "        small=y\n",
    "    else:\n",
    "        small=x\n",
    "    while(True):\n",
    "        if(x%small==0 and y%small==0):\n",
    "            hcf=small\n",
    "            break\n",
    "        small-=1\n",
    "    return small\n",
    "print(hcf(777,999))\n",
    "print('HCF of 89899 and 9999999 is:',hcf(111111,9999999))    "
   ]
  },
  {
   "cell_type": "markdown",
   "id": "0abec1d8",
   "metadata": {},
   "source": [
    "3. Write a Python Program to Convert Decimal to Binary, Octal and Hexadecimal?"
   ]
  },
  {
   "cell_type": "code",
   "execution_count": 36,
   "id": "ee59b557",
   "metadata": {},
   "outputs": [
    {
     "name": "stdout",
     "output_type": "stream",
     "text": [
      "Conversion from Decimal to Binary: 0b1100100\n",
      "Conversion from Decimal to Octal: 0o144\n",
      "Conversion from Decimal to Hexadecimal: 0x64\n"
     ]
    }
   ],
   "source": [
    "number=100\n",
    "print('Conversion from Decimal to Binary:',bin(number))\n",
    "print('Conversion from Decimal to Octal:',oct(number))\n",
    "print('Conversion from Decimal to Hexadecimal:',hex(number))"
   ]
  },
  {
   "cell_type": "markdown",
   "id": "d7238128",
   "metadata": {},
   "source": [
    "4. Write a Python Program To Find ASCII value of a character?"
   ]
  },
  {
   "cell_type": "code",
   "execution_count": 56,
   "id": "8f774cbb",
   "metadata": {},
   "outputs": [
    {
     "name": "stdout",
     "output_type": "stream",
     "text": [
      "ASCII value of character 'a' is: 97\n"
     ]
    }
   ],
   "source": [
    "print(\"ASCII value of character 'a' is:\",ord('a'))\n"
   ]
  },
  {
   "cell_type": "markdown",
   "id": "8ba667e3",
   "metadata": {},
   "source": [
    "5. Write a Python Program to Make a Simple Calculator with 4 basic mathematical operations?"
   ]
  },
  {
   "cell_type": "code",
   "execution_count": 113,
   "id": "137dc252",
   "metadata": {},
   "outputs": [
    {
     "name": "stdout",
     "output_type": "stream",
     "text": [
      "Please Select Operation below:\n",
      "1.Addition\n",
      "2.Subtraction\n",
      "3.Multiplication\n",
      "4.Division\n",
      "Please enter operation for calculation:3\n",
      "Enter first number:3\n",
      "Enter second number:4\n",
      "3.0 X 4.0 = 12.0\n",
      "Wanna go for next calculation:yes\n",
      "Please Select Operation below:\n",
      "1.Addition\n",
      "2.Subtraction\n",
      "3.Multiplication\n",
      "4.Division\n",
      "Please enter operation for calculation:4\n",
      "Enter first number:2\n",
      "Enter second number:3\n",
      "2.0 / 3.0 = 0.6666666666666666\n",
      "Wanna go for next calculation:no\n"
     ]
    }
   ],
   "source": [
    "def multiply(a,b):\n",
    "    return a*b\n",
    "def add(a,b):\n",
    "    return a+b\n",
    "def subtract(a,b):\n",
    "    return a-b\n",
    "def division(a,b):\n",
    "    return a/b\n",
    "\n",
    "while(True):\n",
    "    print('Please Select Operation below:')\n",
    "    print('1.Addition')\n",
    "    print('2.Subtraction')\n",
    "    print('3.Multiplication')\n",
    "    print('4.Division')\n",
    "    option=input('Please enter operation for calculation:')\n",
    "    if option in ('1','2','3','4'):\n",
    "        a=float(input('Enter first number:'))\n",
    "        b=float(input('Enter second number:'))\n",
    "        if option=='1':\n",
    "            print(a,'+',b,'=',add(a,b))\n",
    "        elif option=='2':\n",
    "            print(a,\"-\",b,\"=\",subtract(a,b))\n",
    "        elif option=='3':\n",
    "            print(a,'X',b,'=',multiply(a,b))\n",
    "        elif option=='4':\n",
    "            try:\n",
    "                print(a,'/',b,'=',division(a,b))\n",
    "            except Exception as e:\n",
    "                print(e)\n",
    "        new=input('Wanna go for next calculation:')\n",
    "        if new=='no':\n",
    "            break\n",
    "    else:\n",
    "        print('Invalid Selction')\n",
    "    \n",
    "    \n",
    "        \n",
    "\n",
    "\n",
    "\n",
    "        "
   ]
  }
 ],
 "metadata": {
  "kernelspec": {
   "display_name": "Python 3",
   "language": "python",
   "name": "python3"
  },
  "language_info": {
   "codemirror_mode": {
    "name": "ipython",
    "version": 3
   },
   "file_extension": ".py",
   "mimetype": "text/x-python",
   "name": "python",
   "nbconvert_exporter": "python",
   "pygments_lexer": "ipython3",
   "version": "3.8.8"
  }
 },
 "nbformat": 4,
 "nbformat_minor": 5
}
