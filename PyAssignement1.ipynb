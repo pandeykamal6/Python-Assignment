{
 "cells": [
  {
   "cell_type": "code",
   "execution_count": null,
   "metadata": {},
   "outputs": [],
   "source": [
    "1. In the below elements which of them are values or an expression? eg:- values can be integer or string and expressions will be mathematical operators.\n",
    "Ans:\n",
    "* :Expression\n",
    "'hello':Values\n",
    "-87.8:Values\n",
    "- :Expression\n",
    "/ :Expression\n",
    ":Expression\n",
    "6 :Value\n",
    "\n",
    "2. What is the difference between string and variable?\n",
    "Ans: Variable is a store of information whereas String a type of information stored inside a variable.\n",
    "For example name=”Kamal Pandey”-> Here ‘name’ is a variable which has an information “Kamal Pandey” of type string.\n",
    "Such that variable can have different type of information that can be of any sort of information of any data type.\n",
    "\n",
    "3. Describe three different data types.\n",
    "Ans:\n",
    "1.Integer:It represents whole number from -infinity to +infinity.\n",
    "2.Float :It represents float or decimal number such as 0.34858\n",
    "3.String:It represent sets of information which cant be modify or immutable.For example “Hello World”\n",
    "\n",
    "4. What is an expression made up of? What do all expressions do?\n",
    "Ans:Expression is comprised with variables,operators and functions .Expressions returns such as boolean or string on executing in the program.\n",
    "\n",
    "5. This assignment statements, like spam = 10. What is the difference between an expression and a statement?\n",
    "Ans:A statement consists of an expression which returns a value that may return a value or void. For eg spam =10 here spam(Variable) ,=(Operator),10(Value) is an expression which is propagating towards returning a value whereas in a whole spam=10 is a statement which is made up of expression.\n",
    "\n",
    "6. After running the following code, what does the variable bacon contain?\n",
    "bacon = 22\n",
    "bacon + 1\n",
    "Ans:bacon=22\n",
    "but bacon+1=23 whereas bacon value will be unchanged\n",
    "\n",
    "7. What should the values of the following two terms be?\n",
    "'spam' + 'spamspam': spamspamspam\n",
    "\n",
    "'spam' * 3:spamspamspam\n",
    "\n",
    "8. Why is eggs a valid variable name while 100 is invalid?\n",
    "Ans: ‘Egg’ is a string of words which constitute a meaning and valid to be a variable irrespective a variable ‘e’ is a valid variable as it denotes a character of variable .\n",
    "Whereas 100 is a number that don't qualify the variable name syntax as the value of a variable can be a 100 but a name of variable will result confusion to the interpreter.\n",
    "such that 100=100 will bring error and _100=100 will qualify as the name of the variable starts with ‘_’ .\n",
    "\n",
    "9. What three functions can be used to get the integer, floating-point number, or string version of a value?\n",
    "Ans: int(),str(),float()\n",
    "\n",
    "10. Why does this expression cause an error? How can you fix it?\n",
    "'I have eaten ' + 99 + ' burritos.'\n",
    "‘I have eaten’ +’99’+’burritos’\n",
    "\n",
    "\n",
    "\n"
   ]
  },
  {
   "cell_type": "code",
   "execution_count": null,
   "metadata": {},
   "outputs": [],
   "source": []
  }
 ],
 "metadata": {
  "kernelspec": {
   "display_name": "Python 3",
   "language": "python",
   "name": "python3"
  },
  "language_info": {
   "codemirror_mode": {
    "name": "ipython",
    "version": 3
   },
   "file_extension": ".py",
   "mimetype": "text/x-python",
   "name": "python",
   "nbconvert_exporter": "python",
   "pygments_lexer": "ipython3",
   "version": "3.8.5"
  }
 },
 "nbformat": 4,
 "nbformat_minor": 4
}
